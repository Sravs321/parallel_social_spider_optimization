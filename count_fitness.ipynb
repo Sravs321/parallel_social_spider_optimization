{
  "nbformat": 4,
  "nbformat_minor": 0,
  "metadata": {
    "colab": {
      "name": "count_fitness.ipynb",
      "provenance": [],
      "authorship_tag": "ABX9TyOldnV3274crgTAINz1BIkH",
      "include_colab_link": true
    },
    "kernelspec": {
      "name": "python3",
      "display_name": "Python 3"
    },
    "language_info": {
      "name": "python"
    }
  },
  "cells": [
    {
      "cell_type": "markdown",
      "metadata": {
        "id": "view-in-github",
        "colab_type": "text"
      },
      "source": [
        "<a href=\"https://colab.research.google.com/github/Sravs321/parallel_social_spider_optimization/blob/master/count_fitness.ipynb\" target=\"_parent\"><img src=\"https://colab.research.google.com/assets/colab-badge.svg\" alt=\"Open In Colab\"/></a>"
      ]
    },
    {
      "cell_type": "code",
      "execution_count": 2,
      "metadata": {
        "colab": {
          "base_uri": "https://localhost:8080/"
        },
        "id": "tyxkph7K7Tpd",
        "outputId": "391efbf1-5584-41d7-c93e-996f39ce143f"
      },
      "outputs": [
        {
          "output_type": "stream",
          "name": "stdout",
          "text": [
            "******* START *******\n",
            "12/04/2022 08:42:14\n",
            "messidor_features 100\n",
            "messidor_features 150\n",
            "messidor_features 200\n",
            "messidor_features 300\n",
            "website_phishing 100\n",
            "website_phishing 150\n",
            "website_phishing 200\n",
            "website_phishing 300\n",
            "banknote_authentication 100\n",
            "banknote_authentication 150\n",
            "banknote_authentication 200\n",
            "banknote_authentication 300\n",
            "cmc 100\n",
            "cmc 150\n",
            "cmc 200\n",
            "cmc 300\n",
            "yeast 100\n",
            "yeast 150\n",
            "yeast 200\n",
            "yeast 300\n",
            "wifi_localization 100\n",
            "wifi_localization 150\n",
            "wifi_localization 200\n",
            "wifi_localization 300\n",
            "electrical_grind 100\n",
            "electrical_grind 150\n",
            "electrical_grind 200\n",
            "electrical_grind 300\n",
            "avila_tr 100\n",
            "avila_tr 150\n",
            "avila_tr 200\n",
            "avila_tr 300\n",
            "firm_teacher 100\n",
            "firm_teacher 150\n",
            "firm_teacher 200\n",
            "firm_teacher 300\n",
            "eeg_eye 100\n",
            "eeg_eye 150\n",
            "eeg_eye 200\n",
            "eeg_eye 300\n",
            "12/04/2022 08:42:14\n",
            "******* END *******\n"
          ]
        }
      ],
      "source": [
        "import os\n",
        "from utils import dataset, seed, GetDateTime\n",
        "\n",
        "print(\"******* START *******\")\n",
        "print(GetDateTime())\n",
        "\n",
        "for index_dataset in [20, 21, 22, 23, 24, 25, 26, 27, 28, 29]:   # change\n",
        "\tfor number_generation in [100, 150, 200, 300]:   # change [100, 150, 200, 300] for select fitness under number generations\n",
        "\t\tprint(dataset[index_dataset][0], number_generation)\n",
        "\t\tos.system(\"./main_fitness dataset/{}.cols {} {} dataset/{}.data {} {} > output/fitness/{}_{}.count\"\n",
        "\t\t.format(dataset[index_dataset][0],\n",
        "\t\t\t\tdataset[index_dataset][1],\n",
        "\t\t\t\tdataset[index_dataset][2],\n",
        "\t\t\t\tdataset[index_dataset][0],\n",
        "\t\t\t\tseed[0],\n",
        "\t\t\t\tnumber_generation,\n",
        "\t\t\t\tdataset[index_dataset][0],\n",
        "\t\t\t\tnumber_generation))\n",
        "print(GetDateTime())\n",
        "print(\"******* END *******\")\n",
        "# Run:\n",
        "# python count_fitness.py\n",
        "\n",
        "# Output:\n",
        "# files with name: (dataset name)_(number generation).count"
      ]
    }
  ]
}